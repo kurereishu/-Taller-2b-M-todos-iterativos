{
 "cells": [
  {
   "cell_type": "markdown",
   "id": "46379659",
   "metadata": {},
   "source": [
    "## Escuela Politécnica Nacional\n",
    "## Métodos Numéricos\n",
    "## Integrantes: \n",
    "### - Jhonn Saeteros\n",
    "### - Christian Ayala"
   ]
  },
  {
   "cell_type": "markdown",
   "id": "57c8bd50",
   "metadata": {
    "vscode": {
     "languageId": "plaintext"
    }
   },
   "source": [
    "# Grafique la trayectoria de los siguientes sistemas de ecuaciones"
   ]
  },
  {
   "cell_type": "markdown",
   "id": "dfc1bd9a",
   "metadata": {},
   "source": [
    "# 1) $x_1+x_2=7$\n",
    "# 2) $-2x_1+5x_2=0$\n",
    "# 3) $x_0=(0,0)$\n",
    "# 4) $x_0=(5,2)$\n",
    "# 5) $x_1+x_2=6$\n",
    "# 6) $-2x_1+x_2=0$"
   ]
  },
  {
   "cell_type": "code",
   "execution_count": 1,
   "id": "d824439f",
   "metadata": {},
   "outputs": [
    {
     "data": {
      "image/png": "[encoded data removed]",
      "text/plain": [
       "<Figure size 640x480 with 1 Axes>"
      ]
     },
     "metadata": {},
     "output_type": "display_data"
    }
   ],
   "source": [
    "import numpy as np\n",
    "import matplotlib.pyplot as plt\n",
    "import matplotlib.animation as animation\n",
    "\n",
    "# Sistemas lineales (matrices A)\n",
    "A1 = np.array([[1, 1],\n",
    "               [-2, 5]])\n",
    "\n",
    "A2 = np.array([[1, 1],\n",
    "               [-2, 1]])\n",
    "\n",
    "# Lista de sistemas a probar\n",
    "sistemas = [(\"Sistema 1\", A1), (\"Sistema 2\", A2)]\n",
    "\n",
    "# Condiciones iniciales\n",
    "x0_list = [np.array([0, 0]), np.array([5, 2]), np.array([10, -5])]  # Probar una que diverja\n",
    "\n",
    "# Función para generar trayectoria\n",
    "def trayectoria(A, x0, pasos=20):\n",
    "    xs = [x0]\n",
    "    for _ in range(pasos):\n",
    "        xs.append(A @ xs[-1])\n",
    "    return np.array(xs)\n",
    "\n",
    "# Crear figura\n",
    "fig, ax = plt.subplots()\n",
    "colors = ['blue', 'green', 'red']\n",
    "line, = ax.plot([], [], 'o-', lw=2)\n",
    "\n",
    "def init():\n",
    "    ax.set_xlim(-50, 50)\n",
    "    ax.set_ylim(-50, 50)\n",
    "    ax.grid()\n",
    "    return line,\n",
    "\n",
    "# Elegir sistema a mostrar (puedes cambiar a A2 si deseas)\n",
    "nombre_sistema, A = sistemas[0]\n",
    "\n",
    "# Elegir condición inicial (cambia el índice de x0_list para probar divergencia)\n",
    "x0 = x0_list[2]  # Tercera opción: diverge\n",
    "\n",
    "tray = trayectoria(A, x0, pasos=20)\n",
    "\n",
    "def update(i):\n",
    "    line.set_data(tray[:i+1, 0], tray[:i+1, 1])\n",
    "    line.set_label(f'Paso {i}')\n",
    "    ax.legend()\n",
    "    return line,\n",
    "\n",
    "ani = animation.FuncAnimation(fig, update, frames=len(tray),\n",
    "                              init_func=init, blit=True, interval=500, repeat=False)\n",
    "\n",
    "plt.title(f'Trayectoria con {nombre_sistema} desde x₀ = {x0}')\n",
    "plt.xlabel(\"x1\")\n",
    "plt.ylabel(\"x2\")\n",
    "plt.show()\n"
   ]
  }
 ],
 "metadata": {
  "kernelspec": {
   "display_name": "base",
   "language": "python",
   "name": "python3"
  },
  "language_info": {
   "codemirror_mode": {
    "name": "ipython",
    "version": 3
   },
   "file_extension": ".py",
   "mimetype": "text/x-python",
   "name": "python",
   "nbconvert_exporter": "python",
   "pygments_lexer": "ipython3",
   "version": "3.12.7"
  }
 },
 "nbformat": 4,
 "nbformat_minor": 5
}
