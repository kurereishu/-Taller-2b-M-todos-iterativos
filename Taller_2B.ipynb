{
 "cells": [
  {
   "cell_type": "markdown",
   "id": "46379659",
   "metadata": {},
   "source": [
    "## Escuela Politécnica Nacional\n",
    "## Métodos Numéricos\n",
    "## Integrantes: \n",
    "### - Jhonn Saeteros\n",
    "### - Christian Ayala"
   ]
  },
  {
   "cell_type": "markdown",
   "id": "57c8bd50",
   "metadata": {
    "vscode": {
     "languageId": "plaintext"
    }
   },
   "source": [
    "# Grafique la trayectoria de los siguientes sistemas de ecuaciones"
   ]
  },
  {
   "cell_type": "markdown",
   "id": "dfc1bd9a",
   "metadata": {},
   "source": [
    "1) # x1+x2=7"
   ]
  }
 ],
 "metadata": {
  "language_info": {
   "name": "python"
  }
 },
 "nbformat": 4,
 "nbformat_minor": 5
}
