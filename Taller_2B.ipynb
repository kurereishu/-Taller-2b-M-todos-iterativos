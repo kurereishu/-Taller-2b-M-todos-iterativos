{
 "cells": [
  {
   "cell_type": "markdown",
   "id": "46379659",
   "metadata": {},
   "source": [
    "## Escuela Politécnica Nacional\n",
    "## Métodos Numéricos\n",
    "## Integrantes: \n",
    "### - Jhonn Saeteros\n",
    "### - Christian Ayala"
   ]
  },
  {
   "cell_type": "markdown",
   "id": "57c8bd50",
   "metadata": {
    "vscode": {
     "languageId": "plaintext"
    }
   },
   "source": [
    "# Grafique la trayectoria de los siguientes sistemas de ecuaciones"
   ]
  }
 ],
 "metadata": {
  "language_info": {
   "name": "python"
  }
 },
 "nbformat": 4,
 "nbformat_minor": 5
}
