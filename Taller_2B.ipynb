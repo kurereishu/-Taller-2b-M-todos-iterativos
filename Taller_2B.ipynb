{
 "cells": [
  {
   "cell_type": "markdown",
   "id": "46379659",
   "metadata": {},
   "source": [
    "## Escuela Politécnica Nacional\n",
    "## Métodos Numéricos\n",
    "## Integrantes: \n",
    "### - Jhonn Saeteros\n",
    "### - Christian Ayala"
   ]
  },
  {
   "cell_type": "markdown",
   "id": "57c8bd50",
   "metadata": {
    "vscode": {
     "languageId": "plaintext"
    }
   },
   "source": [
    "# Grafique la trayectoria de los siguientes sistemas de ecuaciones"
   ]
  },
  {
   "cell_type": "markdown",
   "id": "dfc1bd9a",
   "metadata": {},
   "source": [
    "# 1) $x_1+x_2=7$\n",
    "# 2) $-2x_1+5x_2=0$\n",
    "# 3) $x_0=(0,0)$\n",
    "# 4) $x_0=(5,2)$\n",
    "# 5) $x_1+x_2=6$\n",
    "# 6) $-2x_1+x_2=0$"
   ]
  }
 ],
 "metadata": {
  "language_info": {
   "name": "python"
  }
 },
 "nbformat": 4,
 "nbformat_minor": 5
}
