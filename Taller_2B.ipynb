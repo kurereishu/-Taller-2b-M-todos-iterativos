{
 "cells": [
  {
   "cell_type": "markdown",
   "id": "46379659",
   "metadata": {},
   "source": [
    "#hola "
   ]
  },
  {
   "cell_type": "code",
   "execution_count": null,
   "id": "57c8bd50",
   "metadata": {
    "vscode": {
     "languageId": "plaintext"
    }
   },
   "outputs": [],
   "source": []
  }
 ],
 "metadata": {
  "language_info": {
   "name": "python"
  }
 },
 "nbformat": 4,
 "nbformat_minor": 5
}
